{
  "nbformat": 4,
  "nbformat_minor": 0,
  "metadata": {
    "colab": {
      "provenance": [],
      "toc_visible": true,
      "authorship_tag": "ABX9TyNzaU7r9O1yDvlk26A5jmPB",
      "include_colab_link": true
    },
    "kernelspec": {
      "name": "python3",
      "display_name": "Python 3"
    },
    "language_info": {
      "name": "python"
    }
  },
  "cells": [
    {
      "cell_type": "markdown",
      "metadata": {
        "id": "view-in-github",
        "colab_type": "text"
      },
      "source": [
        "<a href=\"https://colab.research.google.com/github/PaulToronto/DataCamp---Introduction-to-Deep-Learning-with-Keras/blob/main/Part_1_of_4_Introducing_Keras.ipynb\" target=\"_parent\"><img src=\"https://colab.research.google.com/assets/colab-badge.svg\" alt=\"Open In Colab\"/></a>"
      ]
    },
    {
      "cell_type": "markdown",
      "source": [
        "# Part 1 of 4 - Introducing Keras"
      ],
      "metadata": {
        "id": "2288K6JTtyBy"
      }
    },
    {
      "cell_type": "markdown",
      "source": [
        "## What is Keras?\n",
        "\n",
        "- Keras is a high-level deep learning framework\n",
        "- It is an open source deep learning library\n",
        "- It runs on top of other frameworks like:\n",
        "    - TensorFlow\n",
        "    - Thean\n",
        "    - CNTK\n",
        "- Created by French AI researcher François Chollet\n",
        "- Because it is high level of abstraction, you can build industry-ready models with much less code\n",
        "- Can use it to build simple networks or more complex ones like auto-encoders\n",
        "- Keras 2.0 is fully integrated with TensorFlow so you can get the best of both worlds as needed and in the same pipeline\n",
        "    - TensorFlow enables you to access low-level features if you need finer tuned control\n",
        "- Why use a neural network?\n",
        "    - Neural networks are good feature extractors\n",
        "    - Previously it was the domain experttha had to set rules based on experimentation and heuristics\n",
        "    - Neural networks can laern the best features and their combination and can perform feature engineering themselves\n",
        "    - Good for unstructured data that does not fit easily into a table\n",
        "        - sound data\n",
        "        - video\n",
        "        - images\n",
        "        - etc.\n",
        "    - Downside is that neural networks are hard to interpret"
      ],
      "metadata": {
        "id": "veGTq6hUuU0N"
      }
    },
    {
      "cell_type": "markdown",
      "source": [
        "## Weights (Parameters)\n",
        "\n"
      ],
      "metadata": {
        "id": "Wx4JjDpkCPDU"
      }
    },
    {
      "cell_type": "markdown",
      "source": [
        "## Your first neural network\n",
        "\n",
        "Build a network that takes two numbers as an input, passes them through a hidden layer of 10 neurons, and finally outputs a single non-constrained number.\n",
        "\n",
        "Keras allows you to build models using one of two APIs:\n",
        "\n",
        "- Functional API\n",
        "- Sequential API\n",
        "\n",
        "Here we focus on the Sequential API"
      ],
      "metadata": {
        "id": "QjCRtakCxQtQ"
      }
    },
    {
      "cell_type": "code",
      "execution_count": null,
      "metadata": {
        "id": "KElZRaTRtfH_"
      },
      "outputs": [],
      "source": [
        "from tensorflow.keras.models import Sequential\n",
        "from tensorflow.keras.layers import Dense"
      ]
    },
    {
      "cell_type": "markdown",
      "source": [
        "```python\n",
        "# This is how it is taught in the course, but it is the old way\n",
        "#. it gives a waring:\n",
        "#. UserWarning: Do not pass an `input_shape`/`input_dim` argument to\n",
        "#. a layer. When using Sequential models, prefer using an `Inpu\n",
        "#. (shape)` object as the first layer in the model instead.\n",
        "\n",
        "# Create a sequential model\n",
        "model = Sequential()\n",
        "\n",
        "# Add an input layer that takes 2 numbers as an input\n",
        "#. and outputs a hidden layer with 10 neurons\n",
        "model.add(Dense(10, input_shape=(2,), activation='relu'))\n",
        "\n",
        "# And a 1-neuron output layer\n",
        "model.add(Dense(1))\n",
        "```\n",
        "\n",
        "The new way is explained here:\n",
        "https://keras.io/guides/sequential_model/#specifying-the-input-shape-in-advance"
      ],
      "metadata": {
        "id": "4OQtJR9r7_SZ"
      }
    },
    {
      "cell_type": "code",
      "source": [
        "from keras import Input"
      ],
      "metadata": {
        "id": "8fbbmPRC9viu"
      },
      "execution_count": null,
      "outputs": []
    },
    {
      "cell_type": "code",
      "source": [
        "# Create a sequential model\n",
        "model = Sequential()\n",
        "\n",
        "# Add an input layer that takes 2 numbers as an input\n",
        "#. and outputs a hidden layer with 10 neurons\n",
        "model.add(Input(shape=(2,)))\n",
        "model.add(Dense(10, activation='relu'))\n",
        "\n",
        "# And a 1-neuron output layer\n",
        "model.add(Dense(1))"
      ],
      "metadata": {
        "id": "Oyx3pf9ox71w"
      },
      "execution_count": null,
      "outputs": []
    },
    {
      "cell_type": "code",
      "source": [
        "model.summary()"
      ],
      "metadata": {
        "colab": {
          "base_uri": "https://localhost:8080/",
          "height": 199
        },
        "id": "mo9mHPZ60DfO",
        "outputId": "3ecf358a-0dd1-406b-9f7a-d81fba5fe92b"
      },
      "execution_count": null,
      "outputs": [
        {
          "output_type": "display_data",
          "data": {
            "text/plain": [
              "\u001b[1mModel: \"sequential\"\u001b[0m\n"
            ],
            "text/html": [
              "<pre style=\"white-space:pre;overflow-x:auto;line-height:normal;font-family:Menlo,'DejaVu Sans Mono',consolas,'Courier New',monospace\"><span style=\"font-weight: bold\">Model: \"sequential\"</span>\n",
              "</pre>\n"
            ]
          },
          "metadata": {}
        },
        {
          "output_type": "display_data",
          "data": {
            "text/plain": [
              "┏━━━━━━━━━━━━━━━━━━━━━━━━━━━━━━━━━━━━━━┳━━━━━━━━━━━━━━━━━━━━━━━━━━━━━┳━━━━━━━━━━━━━━━━━┓\n",
              "┃\u001b[1m \u001b[0m\u001b[1mLayer (type)                        \u001b[0m\u001b[1m \u001b[0m┃\u001b[1m \u001b[0m\u001b[1mOutput Shape               \u001b[0m\u001b[1m \u001b[0m┃\u001b[1m \u001b[0m\u001b[1m        Param #\u001b[0m\u001b[1m \u001b[0m┃\n",
              "┡━━━━━━━━━━━━━━━━━━━━━━━━━━━━━━━━━━━━━━╇━━━━━━━━━━━━━━━━━━━━━━━━━━━━━╇━━━━━━━━━━━━━━━━━┩\n",
              "│ dense (\u001b[38;5;33mDense\u001b[0m)                        │ (\u001b[38;5;45mNone\u001b[0m, \u001b[38;5;34m10\u001b[0m)                  │              \u001b[38;5;34m30\u001b[0m │\n",
              "├──────────────────────────────────────┼─────────────────────────────┼─────────────────┤\n",
              "│ dense_1 (\u001b[38;5;33mDense\u001b[0m)                      │ (\u001b[38;5;45mNone\u001b[0m, \u001b[38;5;34m1\u001b[0m)                   │              \u001b[38;5;34m11\u001b[0m │\n",
              "└──────────────────────────────────────┴─────────────────────────────┴─────────────────┘\n"
            ],
            "text/html": [
              "<pre style=\"white-space:pre;overflow-x:auto;line-height:normal;font-family:Menlo,'DejaVu Sans Mono',consolas,'Courier New',monospace\">┏━━━━━━━━━━━━━━━━━━━━━━━━━━━━━━━━━━━━━━┳━━━━━━━━━━━━━━━━━━━━━━━━━━━━━┳━━━━━━━━━━━━━━━━━┓\n",
              "┃<span style=\"font-weight: bold\"> Layer (type)                         </span>┃<span style=\"font-weight: bold\"> Output Shape                </span>┃<span style=\"font-weight: bold\">         Param # </span>┃\n",
              "┡━━━━━━━━━━━━━━━━━━━━━━━━━━━━━━━━━━━━━━╇━━━━━━━━━━━━━━━━━━━━━━━━━━━━━╇━━━━━━━━━━━━━━━━━┩\n",
              "│ dense (<span style=\"color: #0087ff; text-decoration-color: #0087ff\">Dense</span>)                        │ (<span style=\"color: #00d7ff; text-decoration-color: #00d7ff\">None</span>, <span style=\"color: #00af00; text-decoration-color: #00af00\">10</span>)                  │              <span style=\"color: #00af00; text-decoration-color: #00af00\">30</span> │\n",
              "├──────────────────────────────────────┼─────────────────────────────┼─────────────────┤\n",
              "│ dense_1 (<span style=\"color: #0087ff; text-decoration-color: #0087ff\">Dense</span>)                      │ (<span style=\"color: #00d7ff; text-decoration-color: #00d7ff\">None</span>, <span style=\"color: #00af00; text-decoration-color: #00af00\">1</span>)                   │              <span style=\"color: #00af00; text-decoration-color: #00af00\">11</span> │\n",
              "└──────────────────────────────────────┴─────────────────────────────┴─────────────────┘\n",
              "</pre>\n"
            ]
          },
          "metadata": {}
        },
        {
          "output_type": "display_data",
          "data": {
            "text/plain": [
              "\u001b[1m Total params: \u001b[0m\u001b[38;5;34m41\u001b[0m (164.00 B)\n"
            ],
            "text/html": [
              "<pre style=\"white-space:pre;overflow-x:auto;line-height:normal;font-family:Menlo,'DejaVu Sans Mono',consolas,'Courier New',monospace\"><span style=\"font-weight: bold\"> Total params: </span><span style=\"color: #00af00; text-decoration-color: #00af00\">41</span> (164.00 B)\n",
              "</pre>\n"
            ]
          },
          "metadata": {}
        },
        {
          "output_type": "display_data",
          "data": {
            "text/plain": [
              "\u001b[1m Trainable params: \u001b[0m\u001b[38;5;34m41\u001b[0m (164.00 B)\n"
            ],
            "text/html": [
              "<pre style=\"white-space:pre;overflow-x:auto;line-height:normal;font-family:Menlo,'DejaVu Sans Mono',consolas,'Courier New',monospace\"><span style=\"font-weight: bold\"> Trainable params: </span><span style=\"color: #00af00; text-decoration-color: #00af00\">41</span> (164.00 B)\n",
              "</pre>\n"
            ]
          },
          "metadata": {}
        },
        {
          "output_type": "display_data",
          "data": {
            "text/plain": [
              "\u001b[1m Non-trainable params: \u001b[0m\u001b[38;5;34m0\u001b[0m (0.00 B)\n"
            ],
            "text/html": [
              "<pre style=\"white-space:pre;overflow-x:auto;line-height:normal;font-family:Menlo,'DejaVu Sans Mono',consolas,'Courier New',monospace\"><span style=\"font-weight: bold\"> Non-trainable params: </span><span style=\"color: #00af00; text-decoration-color: #00af00\">0</span> (0.00 B)\n",
              "</pre>\n"
            ]
          },
          "metadata": {}
        }
      ]
    },
    {
      "cell_type": "markdown",
      "source": [
        "- There are 41 parameters, these are also called **weights**"
      ],
      "metadata": {
        "id": "ql38zJ27A-Tg"
      }
    },
    {
      "cell_type": "code",
      "source": [
        "len(model.weights)"
      ],
      "metadata": {
        "colab": {
          "base_uri": "https://localhost:8080/"
        },
        "id": "MaMnXByD_nD3",
        "outputId": "cecf39a7-ccff-4e72-f8ab-46b59cc3eb4d"
      },
      "execution_count": null,
      "outputs": [
        {
          "output_type": "execute_result",
          "data": {
            "text/plain": [
              "4"
            ]
          },
          "metadata": {},
          "execution_count": 6
        }
      ]
    }
  ]
}